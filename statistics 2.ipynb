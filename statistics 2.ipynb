{
 "cells": [
  {
   "cell_type": "code",
   "execution_count": null,
   "id": "baca80a3-ab8c-41a3-96f8-ed52bfa29925",
   "metadata": {},
   "outputs": [],
   "source": [
    "## Q1. What are the three measures of central tendency?"
   ]
  },
  {
   "cell_type": "code",
   "execution_count": null,
   "id": "8bcb299e-e0e8-435d-8216-f66c394dd24c",
   "metadata": {},
   "outputs": [],
   "source": [
    "The three measures of central tendency are the mean, median, and mode.\n",
    "The mean is the average of all the values in a set of data. To find the mean, add up all the values and then divide by the number of values.\n",
    "The median is the middle value in a set of data when the values are arranged in order from least to greatest. To find the median, \n",
    "arrange the values in order and then find the value in the middle. If there is an even number of values, the median is the average of \n",
    "the two middle values.\n",
    "The mode is the value that occurs most often in a set of data. To find the mode, count the number of times each value occurs. \n",
    "The value that occurs most often is the mode."
   ]
  },
  {
   "cell_type": "code",
   "execution_count": null,
   "id": "ab78f8ad-1ed0-4f9d-a157-c20731d19ca4",
   "metadata": {},
   "outputs": [],
   "source": []
  },
  {
   "cell_type": "code",
   "execution_count": null,
   "id": "dd4d3f22-c088-4c5f-8750-132b1116910d",
   "metadata": {},
   "outputs": [],
   "source": [
    "## Q2. What is the difference between the mean, median, and mode? How are they used to measure the\n",
    "central tendency of a dataset?"
   ]
  },
  {
   "cell_type": "code",
   "execution_count": null,
   "id": "439ccb20-a41d-4c00-b16a-7a8a77a57f56",
   "metadata": {},
   "outputs": [],
   "source": [
    "The mean, median, and mode are all measures of central tendency. They are used to describe the center of a distribution of data.\n",
    "The mean is the average of all the values in a set of data. To find the mean, add up all the values and then divide by the number of values.\n",
    "The median is the middle value in a set of data when the values are arranged in order from least to greatest. To find the median, arrange\n",
    "the values in order and then find the value in the middle. If there is an even number of values, the median is the average of the \n",
    "two middle values.\n",
    "The mode is the value that occurs most often in a set of data. To find the mode, count the number of times each value occurs. \n",
    "The value that occurs most often is the mode.\n",
    "The mean, median, and mode are all useful measures of central tendency. However, they can sometimes give different results.\n",
    "For example, if a data set has a few extreme values, the mean can be skewed by those values. In this case, the median or mode may be\n",
    "a better measure of central tendency."
   ]
  },
  {
   "cell_type": "code",
   "execution_count": null,
   "id": "cbba5d09-f9ca-44ca-aa27-585dd6e0c7dd",
   "metadata": {},
   "outputs": [],
   "source": []
  },
  {
   "cell_type": "code",
   "execution_count": null,
   "id": "7aa07dc8-2c65-45c2-8aed-fc448521a5d0",
   "metadata": {},
   "outputs": [],
   "source": [
    "## Q3. Measure the three measures of central tendency for the given height data:\n",
    "[178,177,176,177,178.2,178,175,179,180,175,178.9,176.2,177,172.5,178,176.5]"
   ]
  },
  {
   "cell_type": "code",
   "execution_count": null,
   "id": "3e7f7185-b4ca-4177-9034-2a6963615491",
   "metadata": {},
   "outputs": [],
   "source": [
    "The given height data is:\n",
    "178, 177, 176, 177, 178.2, 178, 175, 179, 180, 175, 178.9, 176.2, 177, 172.5, 178, 176.5\n",
    "The mean height is 177.4 cm.\n",
    "The median height is 177.5 cm.\n",
    "The mode height is 177 cm."
   ]
  },
  {
   "cell_type": "code",
   "execution_count": null,
   "id": "627d0d8c-f87c-4a7f-9412-121864fb64b3",
   "metadata": {},
   "outputs": [],
   "source": []
  },
  {
   "cell_type": "code",
   "execution_count": null,
   "id": "a359af07-1260-4452-a515-6f1502085812",
   "metadata": {},
   "outputs": [],
   "source": [
    "## Q4. Find the standard deviation for the given data:\n",
    "[178,177,176,177,178.2,178,175,179,180,175,178.9,176.2,177,172.5,178,176.5]"
   ]
  },
  {
   "cell_type": "code",
   "execution_count": null,
   "id": "a17a7787-870e-414c-a0ef-af7357abd9ec",
   "metadata": {},
   "outputs": [],
   "source": [
    "The standard deviation is a measure of how much the data is spread out from the mean. To find the standard deviation, \n",
    "we first need to find the mean. The mean is the average of all the values in the data set. In this case, the mean is 177.4.\n",
    "Once we have the mean, we can find the standard deviation by subtracting the mean from each value in the data set and squaring \n",
    "the result. Then, we add up all the squared values and divide by the number of values in the data set. Finally, we take the square \n",
    "root of the result.\n",
    "In this case, the standard deviation is 1.78."
   ]
  },
  {
   "cell_type": "code",
   "execution_count": null,
   "id": "53ddc608-464d-4b02-abe6-fbbf32606f27",
   "metadata": {},
   "outputs": [],
   "source": []
  },
  {
   "cell_type": "code",
   "execution_count": null,
   "id": "0c9bcac6-9252-47e0-a1ee-2a274a45a215",
   "metadata": {},
   "outputs": [],
   "source": [
    "## Q5. How are measures of dispersion such as range, variance, and standard deviation used to describe\n",
    "the spread of a dataset? Provide an example."
   ]
  },
  {
   "cell_type": "code",
   "execution_count": null,
   "id": "4b8a7d2d-b460-4ba8-9591-2cca7c61ea1d",
   "metadata": {},
   "outputs": [],
   "source": [
    "Measures of dispersion are used to describe the spread of a dataset. They can be used to compare different datasets and to identify outliers.\n",
    "The range is the difference between the largest and smallest values in a dataset. For example, if the dataset is {1, 2, 3, 4, 5}, the range is 4.\n",
    "The variance is a measure of how much the values in a dataset are spread out from the mean. The formula for variance is:\n",
    "\n",
    "variance = (sum(x - mean)^2) / n\n",
    "​\n",
    "\n",
    "where x is a value in the dataset, mean is the average of the values in the dataset, and n is the number of values in the dataset.\n",
    "The standard deviation is the square root of the variance. It is a measure of how much the values in a dataset are spread out from the mean."
   ]
  },
  {
   "cell_type": "code",
   "execution_count": null,
   "id": "9e3fb2a5-0958-4dbb-a15d-5208dee9a745",
   "metadata": {},
   "outputs": [],
   "source": []
  },
  {
   "cell_type": "code",
   "execution_count": null,
   "id": "c756c4c2-6c2a-4567-9d78-4a8e5afec837",
   "metadata": {},
   "outputs": [],
   "source": [
    "## Q6. What is a Venn diagram?"
   ]
  },
  {
   "cell_type": "code",
   "execution_count": null,
   "id": "c28631f6-cc7f-4528-bdf1-cf94adbf05c3",
   "metadata": {},
   "outputs": [],
   "source": [
    "A Venn diagram is a diagrammatic representation of two or three sets. It is used to compare two or three different sets and to identify \n",
    "their intersections, unions, and differences.\n",
    "Here is an example of a Venn diagram:\n",
    "!<a href=\"https://i.imgur.com/9qL2z6j.png\" target=\"_blank\">Venn diagram example</a>\n",
    "In this example, the blue circles represent the set A, the orange circles represent the set B, and the green circle represents the \n",
    "intersection of A and B. The red circle represents the union of A and B, and the purple circle represents the set C. The yellow circle \n",
    "represents the difference between A and B, which is A - B.\n",
    "The Venn diagram is a useful tool for comparing sets and identifying their intersections, unions, and differences."
   ]
  },
  {
   "cell_type": "code",
   "execution_count": null,
   "id": "f3979858-15d7-4d12-a3e1-70374dc5cbad",
   "metadata": {},
   "outputs": [],
   "source": []
  },
  {
   "cell_type": "code",
   "execution_count": null,
   "id": "a452af00-17cf-4646-95b9-7f54834d9ed0",
   "metadata": {},
   "outputs": [],
   "source": [
    "Q7. For the two given sets A = (2,3,4,5,6,7) & B = (0,2,6,8,10). Find:\n",
    "(i) A B\n",
    "(ii) A ⋃ B"
   ]
  },
  {
   "cell_type": "code",
   "execution_count": null,
   "id": "e90062f8-3c1f-48a2-b6ee-d8aabe26daa3",
   "metadata": {},
   "outputs": [],
   "source": [
    "(i) A B = {2, 3, 4, 5, 6, 7, 0, 2, 6, 8, 10}\n",
    "(ii) A &#8899; B = {0, 1, 3, 4, 5, 7, 8, 10}\n",
    "In the first case, we find the intersection of A and B, which is {2, 3, 4, 5, 6, 7}. In the second case, we find the union of A and B,\n",
    "which is {0, 1, 2, 3, 4, 5, 6, 7, 8, 10}. "
   ]
  },
  {
   "cell_type": "code",
   "execution_count": null,
   "id": "9a306ebc-87c8-4ee4-b361-e7985977ad19",
   "metadata": {},
   "outputs": [],
   "source": []
  },
  {
   "cell_type": "code",
   "execution_count": null,
   "id": "2774e022-e3d0-4426-831c-d029de81591e",
   "metadata": {},
   "outputs": [],
   "source": [
    "Q8. What do you understand about skewness in data?"
   ]
  },
  {
   "cell_type": "code",
   "execution_count": null,
   "id": "5765d289-fb54-4c3e-9851-021ab35cd956",
   "metadata": {},
   "outputs": [],
   "source": [
    "Skewness is a measure of the asymmetry of a distribution. A distribution is said to be skewed if it is not symmetrical. \n",
    "There are two types of skewness: positive skewness and negative skewness.\n",
    "Positive skewness occurs when the tail of the distribution is longer on the right side. This means that there are more values in \n",
    "the distribution that are greater than the mean.\n",
    "Negative skewness occurs when the tail of the distribution is longer on the left side. This means that there are more values in \n",
    "the distribution that are less than the mean.\n",
    "The skewness of a distribution can be measured using the following formula:\n",
    "\n",
    "skewness = (mean - median) / (standard deviation)\n",
    "​\n",
    "\n",
    "The mean is the average of all the values in the distribution. The median is the middle value in the distribution. The \n",
    "standard deviation is a measure of how spread out the values in the distribution are.\n",
    "The sign of the skewness coefficient indicates the direction of the skewness. A positive skewness coefficient indicates positive \n",
    "skewness, while a negative skewness coefficient indicates negative skewness."
   ]
  },
  {
   "cell_type": "code",
   "execution_count": null,
   "id": "fd566323-f800-45ef-b723-efeb681f7539",
   "metadata": {},
   "outputs": [],
   "source": []
  },
  {
   "cell_type": "code",
   "execution_count": null,
   "id": "6eb7c457-5342-4099-9144-0670fd32505d",
   "metadata": {},
   "outputs": [],
   "source": [
    "Q9. If a data is right skewed then what will be the position of median with respect to mean?"
   ]
  },
  {
   "cell_type": "code",
   "execution_count": null,
   "id": "8424d05c-31f2-4c98-bfd3-98ca19e7ed2b",
   "metadata": {},
   "outputs": [],
   "source": [
    "If a data is right skewed, then the median will be less than the mean. This is because the mean is affected by outliers, \n",
    "which are values that are much larger or smaller than the rest of the data. In a right-skewed distribution, there are more outliers \n",
    "on the right side of the distribution, which means that the mean will be pulled to the right. The median, on the other hand, is not \n",
    "affected by outliers, so it will be less than the mean."
   ]
  },
  {
   "cell_type": "code",
   "execution_count": null,
   "id": "a1109291-45bc-4ac6-b83a-9fb1cc7b356f",
   "metadata": {},
   "outputs": [],
   "source": []
  },
  {
   "cell_type": "code",
   "execution_count": null,
   "id": "1dd3a1f1-7dbc-4ec1-8e05-eda76ec28e15",
   "metadata": {},
   "outputs": [],
   "source": [
    "Q10. Explain the difference between covariance and correlation. How are these measures used in\n",
    "statistical analysis?"
   ]
  },
  {
   "cell_type": "code",
   "execution_count": null,
   "id": "36de0208-f84a-4878-9726-b10817399488",
   "metadata": {},
   "outputs": [],
   "source": [
    "Covariance and correlation are both measures of the relationship between two variables. However, they are not the same thing.\n",
    "Covariance is a measure of how much two variables change together. It is calculated by taking the average of the product of the differences\n",
    "between the two variables.\n",
    "Correlation is a measure of how closely two variables are related. It is calculated by taking the square root of the covariance.\n",
    "The main difference between covariance and correlation is that covariance is a measure of the strength of the relationship between \n",
    "two variables, while correlation is a measure of the direction of the relationship."
   ]
  },
  {
   "cell_type": "code",
   "execution_count": null,
   "id": "0e3904bb-1822-4a3f-a947-893666c3d6da",
   "metadata": {},
   "outputs": [],
   "source": []
  },
  {
   "cell_type": "code",
   "execution_count": null,
   "id": "c372817b-9c8c-45c3-bd37-e994e3ce547c",
   "metadata": {},
   "outputs": [],
   "source": [
    "Q11. What is the formula for calculating the sample mean? Provide an example calculation for a\n",
    "dataset."
   ]
  },
  {
   "cell_type": "code",
   "execution_count": null,
   "id": "3f80fa2f-e0cd-4095-9d3c-d4a26b117a53",
   "metadata": {},
   "outputs": [],
   "source": [
    "The formula for calculating the sample mean is:\n",
    "\n",
    "mean = (x1 + x2 + ... + xn) / n\n",
    "​\n",
    "\n",
    "where:\n",
    "* x1, x2, ..., xn are the values in the dataset\n",
    "* n is the number of values in the dataset\n",
    "For example, if the dataset is {1, 2, 3, 4, 5}, then the mean is:\n",
    "\n",
    "mean = (1 + 2 + 3 + 4 + 5) / 5 = 3\n",
    "​"
   ]
  },
  {
   "cell_type": "code",
   "execution_count": null,
   "id": "f75b3abe-bf55-4d92-b14c-e8c1b29a340b",
   "metadata": {},
   "outputs": [],
   "source": []
  },
  {
   "cell_type": "code",
   "execution_count": null,
   "id": "1bf7dc12-ae26-40e9-8c2d-3b9a743b4c35",
   "metadata": {},
   "outputs": [],
   "source": [
    "Q12. For a normal distribution data what is the relationship between its measure of central tendency?"
   ]
  },
  {
   "cell_type": "code",
   "execution_count": null,
   "id": "fb3b2f13-1e8c-490b-b7fb-7f9c9930b979",
   "metadata": {},
   "outputs": [],
   "source": [
    "For a normal distribution, the mean, median, and mode are all equal. This is because the normal distribution is a symmetric distribution,\n",
    "meaning that it is the same shape on both sides of the mean. The mean is the average of all the values in the distribution, the median is \n",
    "the middle value in the distribution, and the mode is the value that occurs most often in the distribution. Since the normal distribution \n",
    "is symmetric, all three of these values are equal."
   ]
  },
  {
   "cell_type": "code",
   "execution_count": null,
   "id": "0eb37496-014c-4046-bdb9-520ed28284c1",
   "metadata": {},
   "outputs": [],
   "source": []
  },
  {
   "cell_type": "code",
   "execution_count": null,
   "id": "b89e0a1f-793b-4a66-a3dd-1756fb77e22a",
   "metadata": {},
   "outputs": [],
   "source": [
    "Q13. How is covariance different from correlation?"
   ]
  },
  {
   "cell_type": "code",
   "execution_count": null,
   "id": "4d03767f-e53d-4988-a6aa-dc2134175ee1",
   "metadata": {},
   "outputs": [],
   "source": [
    "Covariance and correlation are both measures of the relationship between two variables. However, they are not the same thing.\n",
    "Covariance is a measure of how much two variables change together. It is calculated by taking the average of the product of the differences \n",
    "between the two variables.\n",
    "Correlation is a measure of how closely two variables are related. It is calculated by taking the square root of the covariance.\n",
    "The main difference between covariance and correlation is that covariance is a measure of the strength of the relationship between \n",
    "two variables, while correlation is a measure of the direction of the relationship.\n",
    "Covariance can be positive or negative. A positive covariance indicates that the two variables are positively related, meaning that\n",
    "they tend to increase or decrease together. A negative covariance indicates that the two variables are negatively related, meaning that\n",
    "they tend to increase when one variable decreases and vice versa."
   ]
  },
  {
   "cell_type": "code",
   "execution_count": null,
   "id": "6ea8f1b5-f1c0-4ed2-a185-9bcd1a0281d9",
   "metadata": {},
   "outputs": [],
   "source": []
  },
  {
   "cell_type": "code",
   "execution_count": null,
   "id": "faa17422-c2a0-4a8e-9da6-a74326527b76",
   "metadata": {},
   "outputs": [],
   "source": [
    "Q14. How do outliers affect measures of central tendency and dispersion? Provide an example."
   ]
  },
  {
   "cell_type": "code",
   "execution_count": null,
   "id": "b6572a42-9506-4c1e-b49d-ff7026e73fa3",
   "metadata": {},
   "outputs": [],
   "source": [
    "Outliers can affect measures of central tendency and dispersion in a number of ways.\n",
    "* They can cause the mean to be skewed. For example, if you have a dataset with a few very large values, the mean will be pulled in \n",
    "their direction. This can make it difficult to accurately represent the center of the data.\n",
    "* They can cause the median to be skewed. For example, if you have a dataset with a few very small values, the median will be pulled \n",
    "in their direction. This can make it difficult to accurately represent the middle of the data.\n",
    "* They can cause the standard deviation to be inflated. For example, if you have a dataset with a few very large values, the standard\n",
    "deviation will be increased. This can make it difficult to accurately represent the spread of the data.\n",
    "Here is an example of how outliers can affect measures of central tendency and dispersion.\n",
    "Let's say you have a dataset of the heights of people in inches. The mean height is 65 inches, the median height is 66 inches, and the\n",
    "standard deviation is 2 inches.\n",
    "Now, let's say you add an outlier to the dataset. The outlier is a person who is 8 feet tall. This outlier will cause the mean to be skewed,\n",
    "the median to be skewed, and the standard deviation to be inflated.\n",
    "The mean height will now be 70 inches, the median height will now be 67 inches, and the standard deviation will now be 3 inches.\n",
    "This example shows how outliers can affect measures of central tendency and dispersion. It is important to be aware of the potential\n",
    "impact of outliers when analyzing data."
   ]
  },
  {
   "cell_type": "code",
   "execution_count": null,
   "id": "3719b593-79b4-43d6-8187-e1741e5218b4",
   "metadata": {},
   "outputs": [],
   "source": []
  }
 ],
 "metadata": {
  "kernelspec": {
   "display_name": "Python 3 (ipykernel)",
   "language": "python",
   "name": "python3"
  },
  "language_info": {
   "codemirror_mode": {
    "name": "ipython",
    "version": 3
   },
   "file_extension": ".py",
   "mimetype": "text/x-python",
   "name": "python",
   "nbconvert_exporter": "python",
   "pygments_lexer": "ipython3",
   "version": "3.10.8"
  }
 },
 "nbformat": 4,
 "nbformat_minor": 5
}
